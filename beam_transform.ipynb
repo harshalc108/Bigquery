{
  "nbformat": 4,
  "nbformat_minor": 0,
  "metadata": {
    "colab": {
      "name": "beam_transform.ipynb",
      "provenance": [],
      "collapsed_sections": [],
      "authorship_tag": "ABX9TyM//ZDnl8vCHAyKVafFPbtO",
      "include_colab_link": true
    },
    "kernelspec": {
      "name": "python3",
      "display_name": "Python 3"
    },
    "language_info": {
      "name": "python"
    }
  },
  "cells": [
    {
      "cell_type": "markdown",
      "metadata": {
        "id": "view-in-github",
        "colab_type": "text"
      },
      "source": [
        "<a href=\"https://colab.research.google.com/github/harshalc108/Bigquery/blob/main/beam_transform.ipynb\" target=\"_parent\"><img src=\"https://colab.research.google.com/assets/colab-badge.svg\" alt=\"Open In Colab\"/></a>"
      ]
    },
    {
      "cell_type": "code",
      "execution_count": null,
      "metadata": {
        "id": "70PaNXKZLJRX"
      },
      "outputs": [],
      "source": [
        "!pip install --quiet apache_beam"
      ]
    },
    {
      "cell_type": "code",
      "source": [
        "!mkdir -p data"
      ],
      "metadata": {
        "id": "tP6PkNCmLuAz"
      },
      "execution_count": null,
      "outputs": []
    },
    {
      "cell_type": "code",
      "source": [
        "from google.colab import files\n",
        "uploaded = files.upload()"
      ],
      "metadata": {
        "id": "B3aZnMEsMGq9"
      },
      "execution_count": null,
      "outputs": []
    },
    {
      "cell_type": "code",
      "source": [
        "#create tranform"
      ],
      "metadata": {
        "id": "HwyDZ3sYMlb-"
      },
      "execution_count": null,
      "outputs": []
    },
    {
      "cell_type": "code",
      "source": [
        "import apache_beam as beam\n",
        "\n",
        "p2 = beam.Pipeline()\n",
        "lines = (\n",
        "    \n",
        "    p2\n",
        "    |beam.Create(['using create transform',\n",
        "                  'to generate in memory data',\n",
        "                  'Thanks'\n",
        "                  \n",
        "    ])\n",
        "    |beam.io.WriteToText('data/outcreate1')\n",
        ")\n",
        "p2.run()\n",
        "\n",
        "!{('head -n 20 data/outcreate1-00000-of-00001')}"
      ],
      "metadata": {
        "id": "Q6il6NDVepkk"
      },
      "execution_count": null,
      "outputs": []
    },
    {
      "cell_type": "code",
      "source": [
        "# List of numbers"
      ],
      "metadata": {
        "id": "VSBNHT56iyW_"
      },
      "execution_count": null,
      "outputs": []
    },
    {
      "cell_type": "code",
      "source": [
        "import apache_beam as beam\n",
        "\n",
        "p3 = beam.Pipeline()\n",
        "lines = (\n",
        "    p3\n",
        "    |beam.Create([1,2,3,4,4,5,6,7,8,9 ])\n",
        "    |beam.io.WriteToText('data/outcreate1')\n",
        ")\n",
        "p3.run()\n",
        "\n",
        "!{('head -n 20 data/outcreate1-00000-of-00001')}"
      ],
      "metadata": {
        "id": "rQ9ZRw-ThXOl"
      },
      "execution_count": null,
      "outputs": []
    },
    {
      "cell_type": "code",
      "source": [
        "# list of tuples"
      ],
      "metadata": {
        "id": "RQP5bNfejQiM"
      },
      "execution_count": null,
      "outputs": []
    },
    {
      "cell_type": "code",
      "source": [
        "import apache_beam as beam\n",
        "\n",
        "p4 = beam.Pipeline()\n",
        "lines = (\n",
        "    p4\n",
        "    |beam.Create([(\"math\",56),(\"science\",76),(\"computer\", 78)])\n",
        "    |beam.io.WriteToText('data/outcreate1')\n",
        ")\n",
        "p4.run()\n",
        "\n",
        "!{('head -n 20 data/outcreate1-00000-of-00001')}"
      ],
      "metadata": {
        "id": "-nbyN1A6jq7G"
      },
      "execution_count": null,
      "outputs": []
    },
    {
      "cell_type": "code",
      "source": [
        "#dic"
      ],
      "metadata": {
        "id": "I54EKWKEkUiC"
      },
      "execution_count": null,
      "outputs": []
    },
    {
      "cell_type": "code",
      "source": [
        "import apache_beam as beam\n",
        "\n",
        "p4 = beam.Pipeline()\n",
        "lines = (\n",
        "    p4\n",
        "    |beam.Create({'row1':[1,2,3,4],\n",
        "                   'row2':[5,4,3,2] })\n",
        "    |beam.io.WriteToText('data/outcreate1')\n",
        ")\n",
        "p4.run()\n",
        "\n",
        "!{('head -n 20 data/outcreate1-00000-of-00001')}"
      ],
      "metadata": {
        "id": "zSJ4B3V-kWRw"
      },
      "execution_count": null,
      "outputs": []
    },
    {
      "cell_type": "code",
      "source": [
        "#write transform"
      ],
      "metadata": {
        "id": "XKgUNAJmk6Y6"
      },
      "execution_count": null,
      "outputs": []
    },
    {
      "cell_type": "code",
      "source": [
        "import apache_beam as beam\n",
        "def splitRow(element):\n",
        "  return element.split(',')\n",
        "\n",
        "p5 = beam.Pipeline()\n",
        "lines = (\n",
        "    p5\n",
        "    |beam.io.ReadFromText('yob1880.txt')\n",
        "    |beam.Map(splitRow)\n",
        "    |beam.io.WriteToText('data/output_new')\n",
        ")\n",
        "p5.run()\n",
        "\n",
        "!{('head -n 20 data/output_new-00000-of-00001')}"
      ],
      "metadata": {
        "id": "wrJF43b-lkLC",
        "colab": {
          "base_uri": "https://localhost:8080/"
        },
        "outputId": "a546ba87-4dc5-47c6-b41d-a704fb346e3b"
      },
      "execution_count": null,
      "outputs": [
        {
          "output_type": "stream",
          "name": "stderr",
          "text": [
            "WARNING:root:Make sure that locally built Python SDK docker image has Python 3.7 interpreter.\n",
            "WARNING:apache_beam.io.filebasedsink:Deleting 1 existing files in target path matching: -*-of-%(num_shards)05d\n"
          ]
        },
        {
          "output_type": "stream",
          "name": "stdout",
          "text": [
            "['Mary', 'F', '7065']\n",
            "['Anna', 'F', '2604']\n",
            "['Emma', 'F', '2003']\n",
            "['Elizabeth', 'F', '1939']\n",
            "['Minnie', 'F', '1746']\n",
            "['Margaret', 'F', '1578']\n",
            "['Ida', 'F', '1472']\n",
            "['Alice', 'F', '1414']\n",
            "['Bertha', 'F', '1320']\n",
            "['Sarah', 'F', '1288']\n",
            "['Annie', 'F', '1258']\n",
            "['Clara', 'F', '1226']\n",
            "['Ella', 'F', '1156']\n",
            "['Florence', 'F', '1063']\n",
            "['Cora', 'F', '1045']\n",
            "['Martha', 'F', '1040']\n",
            "['Laura', 'F', '1012']\n",
            "['Nellie', 'F', '995']\n",
            "['Grace', 'F', '982']\n",
            "['Carrie', 'F', '949']\n"
          ]
        }
      ]
    },
    {
      "cell_type": "code",
      "source": [
        ""
      ],
      "metadata": {
        "id": "S3f64avAHYFs"
      },
      "execution_count": null,
      "outputs": []
    },
    {
      "cell_type": "code",
      "source": [
        "import apache_beam as beam\n",
        "def splitRow(element):\n",
        "  return element.split(',')\n",
        "\n",
        "p5 = beam.Pipeline()\n",
        "lines = (\n",
        "    p5\n",
        "    |beam.io.ReadFromText('yob1880.txt')\n",
        "    |beam.FlatMap(splitRow)\n",
        "    |beam.io.WriteToText('data/output_new')\n",
        ")\n",
        "p5.run()\n",
        "\n",
        "!{('head -n 20 data/output_new-00000-of-00001')}"
      ],
      "metadata": {
        "id": "bqCLGsxvHAJK"
      },
      "execution_count": null,
      "outputs": []
    },
    {
      "cell_type": "code",
      "source": [
        "import apache_beam as beam\n",
        "def splitRow(element):\n",
        "  return element.split(',')\n",
        "\n",
        "def filtering(records):\n",
        "  return records[1]== 'M'\n",
        "\n",
        "p5 = beam.Pipeline()\n",
        "lines = (\n",
        "    p5\n",
        "    |beam.io.ReadFromText('yob1880.txt')\n",
        "    |beam.Map(splitRow)\n",
        "    |beam.Filter(filtering)\n",
        "    |beam.io.WriteToText('data/output_new')\n",
        ")\n",
        "p5.run()\n",
        "\n",
        "!{('head -n 10 data/output_new-00000-of-00001')}"
      ],
      "metadata": {
        "colab": {
          "base_uri": "https://localhost:8080/"
        },
        "id": "lXdsZsx5HZhd",
        "outputId": "dce8160d-43d2-4424-cb41-6c5067a9cd94"
      },
      "execution_count": null,
      "outputs": [
        {
          "output_type": "stream",
          "name": "stderr",
          "text": [
            "WARNING:root:Make sure that locally built Python SDK docker image has Python 3.7 interpreter.\n",
            "WARNING:apache_beam.io.filebasedsink:Deleting 1 existing files in target path matching: -*-of-%(num_shards)05d\n"
          ]
        },
        {
          "output_type": "stream",
          "name": "stdout",
          "text": [
            "['John', 'M', '9655']\n",
            "['William', 'M', '9532']\n",
            "['James', 'M', '5927']\n",
            "['Charles', 'M', '5348']\n",
            "['George', 'M', '5126']\n",
            "['Frank', 'M', '3242']\n",
            "['Joseph', 'M', '2632']\n",
            "['Thomas', 'M', '2534']\n",
            "['Henry', 'M', '2444']\n",
            "['Robert', 'M', '2415']\n"
          ]
        }
      ]
    },
    {
      "cell_type": "code",
      "source": [
        "import apache_beam as beam\n",
        "def splitRow(element):\n",
        "  return element.split(',')\n",
        "\n",
        "def filtering(records):\n",
        "  return records[1]== 'M'\n",
        "\n",
        "p5 = beam.Pipeline()\n",
        "lines = (\n",
        "    p5\n",
        "    |beam.io.ReadFromText('yob1880.txt')\n",
        "    |beam.Map(splitRow)\n",
        "    |beam.Filter(filtering)\n",
        "    |beam.Map(lambda record: (record[0],1) )\n",
        "    |beam.io.WriteToText('data/output_new')\n",
        ")\n",
        "p5.run()\n",
        "\n",
        "!{('head -n 10 data/output_new-00000-of-00001')}"
      ],
      "metadata": {
        "colab": {
          "base_uri": "https://localhost:8080/"
        },
        "id": "WREs2UNiIMLw",
        "outputId": "327dcdcb-08f9-465f-fb8e-839a13f4394f"
      },
      "execution_count": null,
      "outputs": [
        {
          "output_type": "stream",
          "name": "stderr",
          "text": [
            "WARNING:root:Make sure that locally built Python SDK docker image has Python 3.7 interpreter.\n",
            "WARNING:apache_beam.io.filebasedsink:Deleting 1 existing files in target path matching: -*-of-%(num_shards)05d\n"
          ]
        },
        {
          "output_type": "stream",
          "name": "stdout",
          "text": [
            "('John', 1)\n",
            "('William', 1)\n",
            "('James', 1)\n",
            "('Charles', 1)\n",
            "('George', 1)\n",
            "('Frank', 1)\n",
            "('Joseph', 1)\n",
            "('Thomas', 1)\n",
            "('Henry', 1)\n",
            "('Robert', 1)\n"
          ]
        }
      ]
    },
    {
      "cell_type": "code",
      "source": [
        "# labeling beam pipeline"
      ],
      "metadata": {
        "id": "Kid-iE6QKbAY"
      },
      "execution_count": null,
      "outputs": []
    },
    {
      "cell_type": "code",
      "source": [
        "import apache_beam as beam\n",
        "def splitRow(element):\n",
        "  return element.split(',')\n",
        "\n",
        "def filtering(records):\n",
        "  return records[1]== 'M'\n",
        "\n",
        "p5 = beam.Pipeline()\n",
        "lines = (\n",
        "    p5\n",
        "    | 'read from file' >> beam.io.ReadFromText('yob1880.txt')\n",
        "    |'map using lambda'>>beam.Map(splitRow)\n",
        "    |beam.Filter(filtering)\n",
        "    |beam.io.WriteToText('data/output_new')\n",
        ")\n",
        "p5.run()\n",
        "\n",
        "!{('head -n 10 data/output_new-00000-of-00001')}"
      ],
      "metadata": {
        "colab": {
          "base_uri": "https://localhost:8080/"
        },
        "id": "ZGTDtia7Kwa3",
        "outputId": "69304878-fab5-4ffe-b070-981815bd878c"
      },
      "execution_count": null,
      "outputs": [
        {
          "output_type": "stream",
          "name": "stderr",
          "text": [
            "WARNING:root:Make sure that locally built Python SDK docker image has Python 3.7 interpreter.\n",
            "WARNING:apache_beam.io.filebasedsink:Deleting 1 existing files in target path matching: -*-of-%(num_shards)05d\n"
          ]
        },
        {
          "output_type": "stream",
          "name": "stdout",
          "text": [
            "['John', 'M', '9655']\n",
            "['William', 'M', '9532']\n",
            "['James', 'M', '5927']\n",
            "['Charles', 'M', '5348']\n",
            "['George', 'M', '5126']\n",
            "['Frank', 'M', '3242']\n",
            "['Joseph', 'M', '2632']\n",
            "['Thomas', 'M', '2534']\n",
            "['Henry', 'M', '2444']\n",
            "['Robert', 'M', '2415']\n"
          ]
        }
      ]
    },
    {
      "cell_type": "code",
      "source": [
        "# anotherway to name pipeline"
      ],
      "metadata": {
        "id": "GewHaQ-OLUDT"
      },
      "execution_count": null,
      "outputs": []
    },
    {
      "cell_type": "code",
      "source": [
        "import apache_beam as beam\n",
        "with beam.Pipeline() as p5:\n",
        "\n",
        "\n",
        " def splitRow(element):\n",
        "  return element.split(',')\n",
        "\n",
        " def filtering(records):\n",
        "  return records[1]== 'M'\n",
        "\n",
        "# p5 = beam.Pipeline()\n",
        " lines = (\n",
        "    p5\n",
        "    | 'read from file' >> beam.io.ReadFromText('yob1880.txt')\n",
        "    |'map using lambda'>>beam.Map(splitRow)\n",
        "    |beam.Filter(filtering)\n",
        "    |beam.io.WriteToText('data/output_new')\n",
        ")\n",
        "# p5.run()\n",
        "\n",
        "!{('head -n 10 data/output_new-00000-of-00001')}"
      ],
      "metadata": {
        "colab": {
          "base_uri": "https://localhost:8080/"
        },
        "id": "hYoSiM4wLYd9",
        "outputId": "df59f5b5-b52e-44e3-ced2-e2119e1e0f1c"
      },
      "execution_count": null,
      "outputs": [
        {
          "output_type": "stream",
          "name": "stderr",
          "text": [
            "WARNING:root:Make sure that locally built Python SDK docker image has Python 3.7 interpreter.\n",
            "WARNING:apache_beam.io.filebasedsink:Deleting 1 existing files in target path matching: -*-of-%(num_shards)05d\n"
          ]
        },
        {
          "output_type": "stream",
          "name": "stdout",
          "text": [
            "['John', 'M', '9655']\n",
            "['William', 'M', '9532']\n",
            "['James', 'M', '5927']\n",
            "['Charles', 'M', '5348']\n",
            "['George', 'M', '5126']\n",
            "['Frank', 'M', '3242']\n",
            "['Joseph', 'M', '2632']\n",
            "['Thomas', 'M', '2534']\n",
            "['Henry', 'M', '2444']\n",
            "['Robert', 'M', '2415']\n"
          ]
        }
      ]
    },
    {
      "cell_type": "code",
      "source": [
        "import apache_beam as beam\n",
        "class SplitRow(beam.DoFn):\n",
        "  def process (self,element):\n",
        "    return [element.split(',')]\n",
        "\n",
        "class FilterGender(beam.DoFn):\n",
        "  def process(self,element):\n",
        "    if element[1]=='M':\n",
        "      return [element]\n",
        "\n",
        "p = beam.Pipeline()\n",
        "lines_1 = (\n",
        "    p\n",
        "    |beam.io.ReadFromText('yob1880.txt')\n",
        "    |beam.ParDo(SplitRow())\n",
        "    |beam.ParDo(FilterGender())\n",
        "    |beam.io.WriteToText('data/output')\n",
        ")\n",
        "p.run()\n",
        "\n",
        "!{('head -n 20 data/output-00000-of-00001')}"
      ],
      "metadata": {
        "colab": {
          "base_uri": "https://localhost:8080/"
        },
        "id": "tffNN7ZEZnED",
        "outputId": "afe012ff-e31a-49ab-bd7f-bc388b6c156a"
      },
      "execution_count": null,
      "outputs": [
        {
          "output_type": "stream",
          "name": "stderr",
          "text": [
            "WARNING:root:Make sure that locally built Python SDK docker image has Python 3.7 interpreter.\n",
            "WARNING:apache_beam.io.filebasedsink:Deleting 1 existing files in target path matching: -*-of-%(num_shards)05d\n"
          ]
        },
        {
          "output_type": "stream",
          "name": "stdout",
          "text": [
            "['John', 'M', '9655']\n",
            "['William', 'M', '9532']\n",
            "['James', 'M', '5927']\n",
            "['Charles', 'M', '5348']\n",
            "['George', 'M', '5126']\n",
            "['Frank', 'M', '3242']\n",
            "['Joseph', 'M', '2632']\n",
            "['Thomas', 'M', '2534']\n",
            "['Henry', 'M', '2444']\n",
            "['Robert', 'M', '2415']\n",
            "['Edward', 'M', '2364']\n",
            "['Harry', 'M', '2152']\n",
            "['Walter', 'M', '1755']\n",
            "['Arthur', 'M', '1599']\n",
            "['Fred', 'M', '1569']\n",
            "['Albert', 'M', '1493']\n",
            "['Samuel', 'M', '1024']\n",
            "['David', 'M', '869']\n",
            "['Louis', 'M', '828']\n",
            "['Joe', 'M', '731']\n"
          ]
        }
      ]
    },
    {
      "cell_type": "code",
      "source": [
        ""
      ],
      "metadata": {
        "id": "RzTRO95Ac2mx"
      },
      "execution_count": null,
      "outputs": []
    }
  ]
}